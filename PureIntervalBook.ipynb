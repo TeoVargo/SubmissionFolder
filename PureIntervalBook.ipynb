{
 "cells": [
  {
   "cell_type": "code",
   "execution_count": 47,
   "metadata": {},
   "outputs": [],
   "source": [
    "# %pip uninstall keras -y\n",
    "# %pip install keras==3.6.0\n",
    "# %pip list"
   ]
  },
  {
   "cell_type": "code",
   "execution_count": 48,
   "metadata": {
    "id": "FDx2foFQV_rl"
   },
   "outputs": [
    {
     "name": "stdout",
     "output_type": "stream",
     "text": [
      "Requirement already satisfied: keras==3.6.0 in ./.conda/lib/python3.11/site-packages (3.6.0)\n",
      "Requirement already satisfied: absl-py in ./.conda/lib/python3.11/site-packages (from keras==3.6.0) (2.1.0)\n",
      "Requirement already satisfied: numpy in ./.conda/lib/python3.11/site-packages (from keras==3.6.0) (2.0.2)\n",
      "Requirement already satisfied: rich in ./.conda/lib/python3.11/site-packages (from keras==3.6.0) (13.9.4)\n",
      "Requirement already satisfied: namex in ./.conda/lib/python3.11/site-packages (from keras==3.6.0) (0.0.8)\n",
      "Requirement already satisfied: h5py in ./.conda/lib/python3.11/site-packages (from keras==3.6.0) (3.12.1)\n",
      "Requirement already satisfied: optree in ./.conda/lib/python3.11/site-packages (from keras==3.6.0) (0.13.1)\n",
      "Requirement already satisfied: ml-dtypes in ./.conda/lib/python3.11/site-packages (from keras==3.6.0) (0.4.1)\n",
      "Requirement already satisfied: packaging in /Users/teovargo/.local/lib/python3.11/site-packages (from keras==3.6.0) (24.2)\n",
      "Requirement already satisfied: typing-extensions>=4.5.0 in /Users/teovargo/.local/lib/python3.11/site-packages (from optree->keras==3.6.0) (4.12.2)\n",
      "Requirement already satisfied: markdown-it-py>=2.2.0 in ./.conda/lib/python3.11/site-packages (from rich->keras==3.6.0) (3.0.0)\n",
      "Requirement already satisfied: pygments<3.0.0,>=2.13.0 in /Users/teovargo/.local/lib/python3.11/site-packages (from rich->keras==3.6.0) (2.18.0)\n",
      "Requirement already satisfied: mdurl~=0.1 in ./.conda/lib/python3.11/site-packages (from markdown-it-py>=2.2.0->rich->keras==3.6.0) (0.1.2)\n",
      "Note: you may need to restart the kernel to use updated packages.\n",
      "Requirement already satisfied: tensorflow in ./.conda/lib/python3.11/site-packages (2.18.0)\n",
      "Requirement already satisfied: absl-py>=1.0.0 in ./.conda/lib/python3.11/site-packages (from tensorflow) (2.1.0)\n",
      "Requirement already satisfied: astunparse>=1.6.0 in ./.conda/lib/python3.11/site-packages (from tensorflow) (1.6.3)\n",
      "Requirement already satisfied: flatbuffers>=24.3.25 in ./.conda/lib/python3.11/site-packages (from tensorflow) (24.3.25)\n",
      "Requirement already satisfied: gast!=0.5.0,!=0.5.1,!=0.5.2,>=0.2.1 in ./.conda/lib/python3.11/site-packages (from tensorflow) (0.6.0)\n",
      "Requirement already satisfied: google-pasta>=0.1.1 in ./.conda/lib/python3.11/site-packages (from tensorflow) (0.2.0)\n",
      "Requirement already satisfied: libclang>=13.0.0 in ./.conda/lib/python3.11/site-packages (from tensorflow) (18.1.1)\n",
      "Requirement already satisfied: opt-einsum>=2.3.2 in ./.conda/lib/python3.11/site-packages (from tensorflow) (3.4.0)\n",
      "Requirement already satisfied: packaging in /Users/teovargo/.local/lib/python3.11/site-packages (from tensorflow) (24.2)\n",
      "Requirement already satisfied: protobuf!=4.21.0,!=4.21.1,!=4.21.2,!=4.21.3,!=4.21.4,!=4.21.5,<6.0.0dev,>=3.20.3 in ./.conda/lib/python3.11/site-packages (from tensorflow) (5.29.1)\n",
      "Requirement already satisfied: requests<3,>=2.21.0 in ./.conda/lib/python3.11/site-packages (from tensorflow) (2.32.3)\n",
      "Requirement already satisfied: setuptools in ./.conda/lib/python3.11/site-packages (from tensorflow) (75.1.0)\n",
      "Requirement already satisfied: six>=1.12.0 in /Users/teovargo/.local/lib/python3.11/site-packages (from tensorflow) (1.17.0)\n",
      "Requirement already satisfied: termcolor>=1.1.0 in ./.conda/lib/python3.11/site-packages (from tensorflow) (2.5.0)\n",
      "Requirement already satisfied: typing-extensions>=3.6.6 in /Users/teovargo/.local/lib/python3.11/site-packages (from tensorflow) (4.12.2)\n",
      "Requirement already satisfied: wrapt>=1.11.0 in ./.conda/lib/python3.11/site-packages (from tensorflow) (1.17.0)\n",
      "Requirement already satisfied: grpcio<2.0,>=1.24.3 in ./.conda/lib/python3.11/site-packages (from tensorflow) (1.68.1)\n",
      "Requirement already satisfied: tensorboard<2.19,>=2.18 in ./.conda/lib/python3.11/site-packages (from tensorflow) (2.18.0)\n",
      "Requirement already satisfied: keras>=3.5.0 in ./.conda/lib/python3.11/site-packages (from tensorflow) (3.6.0)\n",
      "Requirement already satisfied: numpy<2.1.0,>=1.26.0 in ./.conda/lib/python3.11/site-packages (from tensorflow) (2.0.2)\n",
      "Requirement already satisfied: h5py>=3.11.0 in ./.conda/lib/python3.11/site-packages (from tensorflow) (3.12.1)\n",
      "Requirement already satisfied: ml-dtypes<0.5.0,>=0.4.0 in ./.conda/lib/python3.11/site-packages (from tensorflow) (0.4.1)\n",
      "Requirement already satisfied: tensorflow-io-gcs-filesystem>=0.23.1 in ./.conda/lib/python3.11/site-packages (from tensorflow) (0.37.1)\n",
      "Requirement already satisfied: wheel<1.0,>=0.23.0 in ./.conda/lib/python3.11/site-packages (from astunparse>=1.6.0->tensorflow) (0.44.0)\n",
      "Requirement already satisfied: rich in ./.conda/lib/python3.11/site-packages (from keras>=3.5.0->tensorflow) (13.9.4)\n",
      "Requirement already satisfied: namex in ./.conda/lib/python3.11/site-packages (from keras>=3.5.0->tensorflow) (0.0.8)\n",
      "Requirement already satisfied: optree in ./.conda/lib/python3.11/site-packages (from keras>=3.5.0->tensorflow) (0.13.1)\n",
      "Requirement already satisfied: charset-normalizer<4,>=2 in ./.conda/lib/python3.11/site-packages (from requests<3,>=2.21.0->tensorflow) (3.4.0)\n",
      "Requirement already satisfied: idna<4,>=2.5 in ./.conda/lib/python3.11/site-packages (from requests<3,>=2.21.0->tensorflow) (3.10)\n",
      "Requirement already satisfied: urllib3<3,>=1.21.1 in ./.conda/lib/python3.11/site-packages (from requests<3,>=2.21.0->tensorflow) (2.2.3)\n",
      "Requirement already satisfied: certifi>=2017.4.17 in ./.conda/lib/python3.11/site-packages (from requests<3,>=2.21.0->tensorflow) (2024.8.30)\n",
      "Requirement already satisfied: markdown>=2.6.8 in ./.conda/lib/python3.11/site-packages (from tensorboard<2.19,>=2.18->tensorflow) (3.7)\n",
      "Requirement already satisfied: tensorboard-data-server<0.8.0,>=0.7.0 in ./.conda/lib/python3.11/site-packages (from tensorboard<2.19,>=2.18->tensorflow) (0.7.2)\n",
      "Requirement already satisfied: werkzeug>=1.0.1 in ./.conda/lib/python3.11/site-packages (from tensorboard<2.19,>=2.18->tensorflow) (3.1.3)\n",
      "Requirement already satisfied: MarkupSafe>=2.1.1 in ./.conda/lib/python3.11/site-packages (from werkzeug>=1.0.1->tensorboard<2.19,>=2.18->tensorflow) (3.0.2)\n",
      "Requirement already satisfied: markdown-it-py>=2.2.0 in ./.conda/lib/python3.11/site-packages (from rich->keras>=3.5.0->tensorflow) (3.0.0)\n",
      "Requirement already satisfied: pygments<3.0.0,>=2.13.0 in /Users/teovargo/.local/lib/python3.11/site-packages (from rich->keras>=3.5.0->tensorflow) (2.18.0)\n",
      "Requirement already satisfied: mdurl~=0.1 in ./.conda/lib/python3.11/site-packages (from markdown-it-py>=2.2.0->rich->keras>=3.5.0->tensorflow) (0.1.2)\n",
      "Note: you may need to restart the kernel to use updated packages.\n",
      "Requirement already satisfied: pandas in ./.conda/lib/python3.11/site-packages (2.2.3)\n",
      "Requirement already satisfied: numpy>=1.23.2 in ./.conda/lib/python3.11/site-packages (from pandas) (2.0.2)\n",
      "Requirement already satisfied: python-dateutil>=2.8.2 in /Users/teovargo/.local/lib/python3.11/site-packages (from pandas) (2.9.0.post0)\n",
      "Requirement already satisfied: pytz>=2020.1 in ./.conda/lib/python3.11/site-packages (from pandas) (2024.2)\n",
      "Requirement already satisfied: tzdata>=2022.7 in ./.conda/lib/python3.11/site-packages (from pandas) (2024.2)\n",
      "Requirement already satisfied: six>=1.5 in /Users/teovargo/.local/lib/python3.11/site-packages (from python-dateutil>=2.8.2->pandas) (1.17.0)\n",
      "Note: you may need to restart the kernel to use updated packages.\n",
      "Requirement already satisfied: seaborn in ./.conda/lib/python3.11/site-packages (0.13.2)\n",
      "Requirement already satisfied: numpy!=1.24.0,>=1.20 in ./.conda/lib/python3.11/site-packages (from seaborn) (2.0.2)\n",
      "Requirement already satisfied: pandas>=1.2 in ./.conda/lib/python3.11/site-packages (from seaborn) (2.2.3)\n",
      "Requirement already satisfied: matplotlib!=3.6.1,>=3.4 in ./.conda/lib/python3.11/site-packages (from seaborn) (3.9.3)\n",
      "Requirement already satisfied: contourpy>=1.0.1 in ./.conda/lib/python3.11/site-packages (from matplotlib!=3.6.1,>=3.4->seaborn) (1.3.1)\n",
      "Requirement already satisfied: cycler>=0.10 in ./.conda/lib/python3.11/site-packages (from matplotlib!=3.6.1,>=3.4->seaborn) (0.12.1)\n",
      "Requirement already satisfied: fonttools>=4.22.0 in ./.conda/lib/python3.11/site-packages (from matplotlib!=3.6.1,>=3.4->seaborn) (4.55.2)\n",
      "Requirement already satisfied: kiwisolver>=1.3.1 in ./.conda/lib/python3.11/site-packages (from matplotlib!=3.6.1,>=3.4->seaborn) (1.4.7)\n",
      "Requirement already satisfied: packaging>=20.0 in /Users/teovargo/.local/lib/python3.11/site-packages (from matplotlib!=3.6.1,>=3.4->seaborn) (24.2)\n",
      "Requirement already satisfied: pillow>=8 in ./.conda/lib/python3.11/site-packages (from matplotlib!=3.6.1,>=3.4->seaborn) (11.0.0)\n",
      "Requirement already satisfied: pyparsing>=2.3.1 in ./.conda/lib/python3.11/site-packages (from matplotlib!=3.6.1,>=3.4->seaborn) (3.2.0)\n",
      "Requirement already satisfied: python-dateutil>=2.7 in /Users/teovargo/.local/lib/python3.11/site-packages (from matplotlib!=3.6.1,>=3.4->seaborn) (2.9.0.post0)\n",
      "Requirement already satisfied: pytz>=2020.1 in ./.conda/lib/python3.11/site-packages (from pandas>=1.2->seaborn) (2024.2)\n",
      "Requirement already satisfied: tzdata>=2022.7 in ./.conda/lib/python3.11/site-packages (from pandas>=1.2->seaborn) (2024.2)\n",
      "Requirement already satisfied: six>=1.5 in /Users/teovargo/.local/lib/python3.11/site-packages (from python-dateutil>=2.7->matplotlib!=3.6.1,>=3.4->seaborn) (1.17.0)\n",
      "Note: you may need to restart the kernel to use updated packages.\n",
      "Requirement already satisfied: scikit-learn in ./.conda/lib/python3.11/site-packages (1.5.2)\n",
      "Requirement already satisfied: numpy>=1.19.5 in ./.conda/lib/python3.11/site-packages (from scikit-learn) (2.0.2)\n",
      "Requirement already satisfied: scipy>=1.6.0 in ./.conda/lib/python3.11/site-packages (from scikit-learn) (1.14.1)\n",
      "Requirement already satisfied: joblib>=1.2.0 in ./.conda/lib/python3.11/site-packages (from scikit-learn) (1.4.2)\n",
      "Requirement already satisfied: threadpoolctl>=3.1.0 in ./.conda/lib/python3.11/site-packages (from scikit-learn) (3.5.0)\n",
      "Note: you may need to restart the kernel to use updated packages.\n",
      "Requirement already satisfied: pretty_midi in ./.conda/lib/python3.11/site-packages (0.2.10)\n",
      "Requirement already satisfied: numpy>=1.7.0 in ./.conda/lib/python3.11/site-packages (from pretty_midi) (2.0.2)\n",
      "Requirement already satisfied: mido>=1.1.16 in ./.conda/lib/python3.11/site-packages (from pretty_midi) (1.3.3)\n",
      "Requirement already satisfied: six in /Users/teovargo/.local/lib/python3.11/site-packages (from pretty_midi) (1.17.0)\n",
      "Requirement already satisfied: packaging in /Users/teovargo/.local/lib/python3.11/site-packages (from mido>=1.1.16->pretty_midi) (24.2)\n",
      "Note: you may need to restart the kernel to use updated packages.\n",
      "Requirement already satisfied: music21 in ./.conda/lib/python3.11/site-packages (9.3.0)\n",
      "Requirement already satisfied: chardet in ./.conda/lib/python3.11/site-packages (from music21) (5.2.0)\n",
      "Requirement already satisfied: joblib in ./.conda/lib/python3.11/site-packages (from music21) (1.4.2)\n",
      "Requirement already satisfied: jsonpickle in ./.conda/lib/python3.11/site-packages (from music21) (4.0.0)\n",
      "Requirement already satisfied: matplotlib in ./.conda/lib/python3.11/site-packages (from music21) (3.9.3)\n",
      "Requirement already satisfied: more-itertools in ./.conda/lib/python3.11/site-packages (from music21) (10.5.0)\n",
      "Requirement already satisfied: numpy in ./.conda/lib/python3.11/site-packages (from music21) (2.0.2)\n",
      "Requirement already satisfied: requests in ./.conda/lib/python3.11/site-packages (from music21) (2.32.3)\n",
      "Requirement already satisfied: webcolors>=1.5 in ./.conda/lib/python3.11/site-packages (from music21) (24.11.1)\n",
      "Requirement already satisfied: contourpy>=1.0.1 in ./.conda/lib/python3.11/site-packages (from matplotlib->music21) (1.3.1)\n",
      "Requirement already satisfied: cycler>=0.10 in ./.conda/lib/python3.11/site-packages (from matplotlib->music21) (0.12.1)\n",
      "Requirement already satisfied: fonttools>=4.22.0 in ./.conda/lib/python3.11/site-packages (from matplotlib->music21) (4.55.2)\n",
      "Requirement already satisfied: kiwisolver>=1.3.1 in ./.conda/lib/python3.11/site-packages (from matplotlib->music21) (1.4.7)\n",
      "Requirement already satisfied: packaging>=20.0 in /Users/teovargo/.local/lib/python3.11/site-packages (from matplotlib->music21) (24.2)\n",
      "Requirement already satisfied: pillow>=8 in ./.conda/lib/python3.11/site-packages (from matplotlib->music21) (11.0.0)\n",
      "Requirement already satisfied: pyparsing>=2.3.1 in ./.conda/lib/python3.11/site-packages (from matplotlib->music21) (3.2.0)\n",
      "Requirement already satisfied: python-dateutil>=2.7 in /Users/teovargo/.local/lib/python3.11/site-packages (from matplotlib->music21) (2.9.0.post0)\n",
      "Requirement already satisfied: charset-normalizer<4,>=2 in ./.conda/lib/python3.11/site-packages (from requests->music21) (3.4.0)\n",
      "Requirement already satisfied: idna<4,>=2.5 in ./.conda/lib/python3.11/site-packages (from requests->music21) (3.10)\n",
      "Requirement already satisfied: urllib3<3,>=1.21.1 in ./.conda/lib/python3.11/site-packages (from requests->music21) (2.2.3)\n",
      "Requirement already satisfied: certifi>=2017.4.17 in ./.conda/lib/python3.11/site-packages (from requests->music21) (2024.8.30)\n",
      "Requirement already satisfied: six>=1.5 in /Users/teovargo/.local/lib/python3.11/site-packages (from python-dateutil>=2.7->matplotlib->music21) (1.17.0)\n",
      "Note: you may need to restart the kernel to use updated packages.\n",
      "Requirement already satisfied: torch in ./.conda/lib/python3.11/site-packages (2.5.1)\n",
      "Requirement already satisfied: filelock in ./.conda/lib/python3.11/site-packages (from torch) (3.16.1)\n",
      "Requirement already satisfied: typing-extensions>=4.8.0 in /Users/teovargo/.local/lib/python3.11/site-packages (from torch) (4.12.2)\n",
      "Requirement already satisfied: networkx in ./.conda/lib/python3.11/site-packages (from torch) (3.4.2)\n",
      "Requirement already satisfied: jinja2 in ./.conda/lib/python3.11/site-packages (from torch) (3.1.4)\n",
      "Requirement already satisfied: fsspec in ./.conda/lib/python3.11/site-packages (from torch) (2024.10.0)\n",
      "Requirement already satisfied: sympy==1.13.1 in ./.conda/lib/python3.11/site-packages (from torch) (1.13.1)\n",
      "Requirement already satisfied: mpmath<1.4,>=1.1.0 in ./.conda/lib/python3.11/site-packages (from sympy==1.13.1->torch) (1.3.0)\n",
      "Requirement already satisfied: MarkupSafe>=2.0 in ./.conda/lib/python3.11/site-packages (from jinja2->torch) (3.0.2)\n",
      "Note: you may need to restart the kernel to use updated packages.\n",
      "Requirement already satisfied: torcheval in ./.conda/lib/python3.11/site-packages (0.0.7)\n",
      "Requirement already satisfied: typing-extensions in /Users/teovargo/.local/lib/python3.11/site-packages (from torcheval) (4.12.2)\n",
      "Note: you may need to restart the kernel to use updated packages.\n"
     ]
    }
   ],
   "source": [
    "%pip install keras==3.6.0\n",
    "%pip install tensorflow\n",
    "%pip install pandas\n",
    "%pip install seaborn\n",
    "%pip install scikit-learn\n",
    "%pip install pretty_midi\n",
    "%pip install music21\n",
    "%pip install torch\n",
    "%pip install torcheval\n"
   ]
  },
  {
   "cell_type": "code",
   "execution_count": 49,
   "metadata": {
    "colab": {
     "background_save": true
    },
    "executionInfo": {
     "elapsed": 8559,
     "status": "ok",
     "timestamp": 1729777067292,
     "user": {
      "displayName": "Teo Vargo",
      "userId": "09124687834550019193"
     },
     "user_tz": -60
    },
    "id": "TSjP-8ufWRa3"
   },
   "outputs": [],
   "source": [
    "import pandas as pd\n",
    "import numpy as np\n",
    "import pretty_midi\n",
    "import pathlib\n",
    "import collections\n",
    "import datetime\n",
    "import glob\n",
    "import music21\n",
    "import tensorflow as tf\n",
    "import torch\n",
    "from torcheval.metrics.text import Perplexity\n",
    "import random\n"
   ]
  },
  {
   "cell_type": "markdown",
   "metadata": {},
   "source": [
    "# Music Gen using LSTM model\n",
    "\n",
    "This project will use a 4 layer keras LSTM model to predict notes based on training from a famous jazz recording captures that were converted to midi.\n",
    "\n",
    "The notebook has 3 main sections.\n",
    "* Training Data Preparation\n",
    "* Model Definition and fit\n",
    "* Predictions based on sample input"
   ]
  },
  {
   "cell_type": "markdown",
   "metadata": {},
   "source": [
    "### Helper Functions\n",
    "\n",
    "Some conversion and database i/o functions were split into a separate python file to help readability of this notebook.  This are loaded here."
   ]
  },
  {
   "cell_type": "code",
   "execution_count": 50,
   "metadata": {},
   "outputs": [],
   "source": [
    "import importlib  # allows reload of my_functions\n",
    "import my_functions"
   ]
  },
  {
   "cell_type": "code",
   "execution_count": 51,
   "metadata": {},
   "outputs": [
    {
     "data": {
      "text/plain": [
       "<module 'my_functions' from '/Users/teovargo/SubmissionFolder/my_functions.py'>"
      ]
     },
     "execution_count": 51,
     "metadata": {},
     "output_type": "execute_result"
    }
   ],
   "source": [
    "importlib.reload(my_functions)"
   ]
  },
  {
   "cell_type": "markdown",
   "metadata": {},
   "source": [
    "### This cell defines global constants that are used throughout the notebook "
   ]
  },
  {
   "cell_type": "code",
   "execution_count": 52,
   "metadata": {},
   "outputs": [],
   "source": [
    "# Global things used throughout the notebook\n",
    "\n",
    "seed = 42\n",
    "tf.random.set_seed(seed)\n",
    "np.random.seed(seed)\n",
    "\n",
    "# length of trainig sequences\n",
    "seq_length = 20\n",
    "\n",
    "# Size of pitch vocab\n",
    "vocab_size = 49\n",
    "\n",
    "# Keys that will get extracted into the training set. This are the inputs to the model!\n",
    "key_order = ['interval', 'step', 'duration', 'tempo', 'instrument_num', 'key_num']\n",
    "\n",
    "# Songs to exclude from training\n",
    "#skip_list = random.sample(range(1, 456), 16)\n",
    "skip_list = [ 311, 50, 66, 283, 95, 303, 284, 238, 297, 276, 416, 254, 346, 161, 125, 362]\n",
    "\n",
    "# Skipped songs to be used for Validation\n",
    "val_list = skip_list[:10]\n",
    "\n",
    "# Skipped songs to be used for Testing\n",
    "test_list = skip_list[10:]\n",
    "\n",
    "\n",
    "model_save_file = 'PureIntervalSave.keras'\n"
   ]
  },
  {
   "cell_type": "markdown",
   "metadata": {},
   "source": [
    "### This cell will load training data using a SQL query and calculate some differential values\n",
    "\n",
    "Training data is loaded into a Dataframe.  Many fields are just extracted from the wjazzd.db sqlite\n",
    "database. Others are calculated on the dataframe once it is created.\n",
    "\n",
    "Fields for each note from the database are created joining the tables \"melody\" and \"solo_info\"\n",
    "* pitch - from melody.pitch midi note value (0-127)\n",
    "* pitch_norm - from melody.pitch / 128 as pitch_norm  Normalized pitch.  (not used)\n",
    "* start - from melody.onset as start  Start time of the note\n",
    "* end - from melody.onset + melody.duration as end  End time of the note\n",
    "* duration - from melody.duration duration of the note in seconds\n",
    "* instrument - from solo_info.instrument string representing of the instrument used ie \"cl\" (clarinet)\n",
    "* key - solo_info.key string value reprensenting the musical key ie: \"Bb-maj\"\n",
    "* style - from solo_info.style string representing the song genre ie: \"COOL\" or \"POSTBOP\"\n",
    "* tempo - from solo_info.avgtempo as tempo reprensented in BPM\n",
    "* feel - from solo_info.rhythmfeel as feel string represening rhythmic feel ie \"SWING\" or \"LATIN\" \n",
    "* title - from solo_info.title,\n",
    "* performer = from solo_info.performer string of the name of the artist on the solo\n",
    "\n",
    "Once the data is loaded, these additional fields are create\n",
    "* step - time between the previous note and this note\n",
    "* interval - pitch difference between\n",
    "* contour - interval abstraction based on my_functions.contour()\n",
    "\n"
   ]
  },
  {
   "cell_type": "code",
   "execution_count": 53,
   "metadata": {},
   "outputs": [],
   "source": [
    "# This loads up all the notes in the dataset\n",
    "pitchInst = my_functions.extract_training_data()"
   ]
  },
  {
   "cell_type": "markdown",
   "metadata": {},
   "source": [
    "### Turn to alpha numeric lables into numbers for training input\n",
    "* instrument_num maps to the type of instrument used in the solo\n",
    "* key_num maps to the musical key that the tune was in (Bb-maj for example)"
   ]
  },
  {
   "cell_type": "code",
   "execution_count": 54,
   "metadata": {},
   "outputs": [],
   "source": [
    "from sklearn.preprocessing import LabelEncoder\n",
    "le = LabelEncoder()\n",
    "pitchInst['instrument_num'] = le.fit_transform(pitchInst['instrument']).astype(float)\n",
    "pitchInst['key_num'] = le.fit_transform(pitchInst['key']).astype(float)\n"
   ]
  },
  {
   "cell_type": "markdown",
   "metadata": {},
   "source": [
    "### Trim off extraneous notes from the training data and skip songs\n",
    "\n",
    "For the model to train correctly, the training set must be an integral multiple of seq_length.\n"
   ]
  },
  {
   "cell_type": "code",
   "execution_count": 55,
   "metadata": {},
   "outputs": [
    {
     "name": "stderr",
     "output_type": "stream",
     "text": [
      "/Users/teovargo/SubmissionFolder/my_functions.py:87: FutureWarning: The behavior of DataFrame concatenation with empty or all-NA entries is deprecated. In a future version, this will no longer exclude empty or all-NA columns when determining the result dtypes. To retain the old behavior, exclude the relevant entries before the concat operation.\n",
      "  train_subset = pd.concat([train_subset, dfs[i]], ignore_index=True)  # append to the set\n"
     ]
    },
    {
     "data": {
      "text/plain": [
       "TensorSpec(shape=(6,), dtype=tf.float64, name=None)"
      ]
     },
     "execution_count": 55,
     "metadata": {},
     "output_type": "execute_result"
    }
   ],
   "source": [
    "n_notes, train_notes = my_functions.trim_data_sequence(\n",
    "        pitchInst, \n",
    "        skip_list, \n",
    "        seq_length,\n",
    "        key_order)\n",
    "\n",
    "# shift intervals to be all positive\n",
    "train_notes[:,0] = train_notes[:,0] + 24\n",
    "\n",
    "notes_ds = tf.data.Dataset.from_tensor_slices(train_notes)\n",
    "notes_ds.element_spec"
   ]
  },
  {
   "cell_type": "code",
   "execution_count": 56,
   "metadata": {},
   "outputs": [
    {
     "name": "stderr",
     "output_type": "stream",
     "text": [
      "/Users/teovargo/SubmissionFolder/my_functions.py:255: FutureWarning: The behavior of DataFrame concatenation with empty or all-NA entries is deprecated. In a future version, this will no longer exclude empty or all-NA columns when determining the result dtypes. To retain the old behavior, exclude the relevant entries before the concat operation.\n",
      "  train_subset = pd.concat([train_subset, dfs[i]], ignore_index=True)  # append to the set\n"
     ]
    },
    {
     "data": {
      "text/plain": [
       "TensorSpec(shape=(6,), dtype=tf.float64, name=None)"
      ]
     },
     "execution_count": 56,
     "metadata": {},
     "output_type": "execute_result"
    }
   ],
   "source": [
    "val_length, val_notes = my_functions.select_data_sequences(pitchInst, \n",
    "        val_list, \n",
    "        seq_length,\n",
    "        key_order)\n",
    "\n",
    "# shift intervals to be all positive\n",
    "val_notes[:,0] = val_notes[:,0] + 24\n",
    "\n",
    "val_notes_ds = tf.data.Dataset.from_tensor_slices(val_notes)\n",
    "val_notes_ds.element_spec"
   ]
  },
  {
   "cell_type": "code",
   "execution_count": 57,
   "metadata": {},
   "outputs": [
    {
     "data": {
      "text/plain": [
       "<bound method DatasetV2.__len__ of <_ParallelMapDataset element_spec=(TensorSpec(shape=(20, 6), dtype=tf.float64, name=None), {'interval': TensorSpec(shape=(), dtype=tf.float64, name=None), 'step': TensorSpec(shape=(), dtype=tf.float64, name=None), 'duration': TensorSpec(shape=(), dtype=tf.float64, name=None), 'tempo': TensorSpec(shape=(), dtype=tf.float64, name=None), 'instrument_num': TensorSpec(shape=(), dtype=tf.float64, name=None), 'key_num': TensorSpec(shape=(), dtype=tf.float64, name=None)})>>"
      ]
     },
     "execution_count": 57,
     "metadata": {},
     "output_type": "execute_result"
    }
   ],
   "source": [
    "val_seq_ds = my_functions.create_sequences(val_notes_ds, key_order, seq_length, vocab_size)\n",
    "val_seq_ds.__len__"
   ]
  },
  {
   "cell_type": "code",
   "execution_count": 58,
   "metadata": {},
   "outputs": [],
   "source": [
    "batch_size = 64\n",
    "buffer_size = val_length #  - seq_length  # the number of items in the dataset\n",
    "val_ds = (val_seq_ds\n",
    "            .shuffle(buffer_size)\n",
    "            .batch(batch_size, drop_remainder=True)\n",
    "            .cache()\n",
    "            .prefetch(tf.data.experimental.AUTOTUNE))"
   ]
  },
  {
   "cell_type": "code",
   "execution_count": 59,
   "metadata": {
    "colab": {
     "base_uri": "https://localhost:8080/"
    },
    "executionInfo": {
     "elapsed": 555,
     "status": "ok",
     "timestamp": 1729777317788,
     "user": {
      "displayName": "Teo Vargo",
      "userId": "09124687834550019193"
     },
     "user_tz": -60
    },
    "id": "vvUPy1h-pgwL",
    "outputId": "772d3214-91f8-4e23-f674-9c0c29546add"
   },
   "outputs": [
    {
     "data": {
      "text/plain": [
       "<bound method DatasetV2.__len__ of <_ParallelMapDataset element_spec=(TensorSpec(shape=(20, 6), dtype=tf.float64, name=None), {'interval': TensorSpec(shape=(), dtype=tf.float64, name=None), 'step': TensorSpec(shape=(), dtype=tf.float64, name=None), 'duration': TensorSpec(shape=(), dtype=tf.float64, name=None), 'tempo': TensorSpec(shape=(), dtype=tf.float64, name=None), 'instrument_num': TensorSpec(shape=(), dtype=tf.float64, name=None), 'key_num': TensorSpec(shape=(), dtype=tf.float64, name=None)})>>"
      ]
     },
     "execution_count": 59,
     "metadata": {},
     "output_type": "execute_result"
    }
   ],
   "source": [
    "seq_ds = my_functions.create_sequences(notes_ds, key_order, seq_length, vocab_size)\n",
    "seq_ds.__len__"
   ]
  },
  {
   "cell_type": "code",
   "execution_count": 60,
   "metadata": {
    "executionInfo": {
     "elapsed": 560,
     "status": "ok",
     "timestamp": 1729777346217,
     "user": {
      "displayName": "Teo Vargo",
      "userId": "09124687834550019193"
     },
     "user_tz": -60
    },
    "id": "FAdNRRuhxD2b"
   },
   "outputs": [],
   "source": [
    "batch_size = 64\n",
    "buffer_size = n_notes #  - seq_length  # the number of items in the dataset\n",
    "train_ds = (seq_ds\n",
    "            .shuffle(buffer_size)\n",
    "            .batch(batch_size, drop_remainder=True)\n",
    "            .cache()\n",
    "            .prefetch(tf.data.experimental.AUTOTUNE))"
   ]
  },
  {
   "cell_type": "markdown",
   "metadata": {},
   "source": [
    "### Build the model\n",
    "\n",
    "If the model can be restored from the saved file, use that.  Otherwise, build and train the model"
   ]
  },
  {
   "cell_type": "code",
   "execution_count": 61,
   "metadata": {
    "colab": {
     "base_uri": "https://localhost:8080/",
     "height": 298
    },
    "executionInfo": {
     "elapsed": 697,
     "status": "ok",
     "timestamp": 1729777385441,
     "user": {
      "displayName": "Teo Vargo",
      "userId": "09124687834550019193"
     },
     "user_tz": -60
    },
    "id": "yaHEn45JyExj",
    "outputId": "9486ced4-b5cb-4403-a0d6-73293f0d06de"
   },
   "outputs": [
    {
     "name": "stdout",
     "output_type": "stream",
     "text": [
      "CPU times: user 54.4 ms, sys: 12.8 ms, total: 67.2 ms\n",
      "Wall time: 87.1 ms\n"
     ]
    }
   ],
   "source": [
    "%%time\n",
    "\n",
    "try:\n",
    "  model = tf.keras.models.load_model(model_save_file)\n",
    "except:\n",
    "  # definition for the inputs.  Note how num of inputs is realted to size of key_order global\n",
    "  input_shape = (seq_length, len(key_order))\n",
    "  learning_rate = 0.010\n",
    "\n",
    "  #input layer\n",
    "  inputs = tf.keras.Input(input_shape)\n",
    "  #hidden layers\n",
    "  x = tf.keras.layers.LSTM(49, return_sequences=True)(inputs)\n",
    "  x = tf.keras.layers.Dropout(0.20, seed=seed)(x) #dropout layer\n",
    "  x = tf.keras.layers.LSTM(16, return_sequences=True)(x)\n",
    "  x = tf.keras.layers.Dropout(0.20, seed=seed)(x) #dropout layer\n",
    "  x = tf.keras.layers.LSTM(16, return_sequences=False)(x) #last layer to outputs\n",
    "\n",
    "\n",
    "\n",
    "\n",
    "  outputs = {\n",
    "    'interval': tf.keras.layers.Dense(49, name='interval')(x),\n",
    "    'step': tf.keras.layers.Dense(1, name='step')(x),\n",
    "    'duration': tf.keras.layers.Dense(1, name='duration')(x),\n",
    "  }\n",
    "\n",
    "  model = tf.keras.Model(inputs, outputs)\n",
    "\n",
    "  loss = {\n",
    "        'interval':tf.keras.losses.SparseCategoricalCrossentropy(from_logits=True),\n",
    "        'step': \"mean_squared_error\",\n",
    "        'duration': \"mean_squared_error\",\n",
    "  }\n",
    "\n",
    "  # loss = {\n",
    "  #       'pitch':tf.keras.losses.SparseCategoricalCrossentropy(from_logits=True),\n",
    "  #       'step': mse_with_positive_pressure,\n",
    "  #       'duration': mse_with_positive_pressure,\n",
    "  # }\n",
    "\n",
    "  optimizer = tf.keras.optimizers.Adam(learning_rate=learning_rate)\n",
    "\n",
    "  model.compile(loss=loss, optimizer=optimizer)\n",
    "\n",
    "  model.summary()\n",
    "  # these are the three outputs of the model\n",
    "\n",
    "  model.compile(\n",
    "      loss=loss,\n",
    "      loss_weights={\n",
    "          'interval': 1.0,\n",
    "          'step': 1.0,\n",
    "          'duration':1.0,\n",
    "      },\n",
    "      optimizer=optimizer,\n",
    "  )\n",
    "\n",
    "  model.evaluate(train_ds, return_dict=True)\n",
    "  callbacks = [\n",
    "      tf.keras.callbacks.ModelCheckpoint(\n",
    "          filepath='./training_checkpoints/ckpt_{epoch}.weights.h5',\n",
    "          save_weights_only=True),\n",
    "      tf.keras.callbacks.EarlyStopping(\n",
    "          monitor='loss',\n",
    "          min_delta=0.001,\n",
    "          patience=5,\n",
    "          verbose=1,\n",
    "          start_from_epoch=2,\n",
    "          restore_best_weights=True),\n",
    "  ]\n",
    "  \n",
    "  epochs = 30\n",
    "\n",
    "  history = model.fit(\n",
    "      train_ds,\n",
    "      epochs=epochs,\n",
    "      callbacks=callbacks,\n",
    "      validation_data=val_ds,\n",
    "  )\n",
    "  model.save(model_save_file)\n",
    "  np.save('history_interval.npy', history.history, allow_pickle=True) # save training data for later"
   ]
  },
  {
   "cell_type": "code",
   "execution_count": 62,
   "metadata": {},
   "outputs": [
    {
     "data": {
      "text/plain": [
       "[2.7164907455444336,\n",
       " 2.7066752910614014,\n",
       " 2.7068583965301514,\n",
       " 2.7061638832092285,\n",
       " 2.705695629119873,\n",
       " 2.7053439617156982,\n",
       " 2.705089807510376,\n",
       " 2.7048959732055664,\n",
       " 2.7047526836395264,\n",
       " 2.7046456336975098,\n",
       " 2.704554796218872,\n",
       " 2.7044827938079834,\n",
       " 2.704432964324951,\n",
       " 2.704394578933716,\n",
       " 2.7043795585632324]"
      ]
     },
     "execution_count": 62,
     "metadata": {},
     "output_type": "execute_result"
    }
   ],
   "source": [
    "loaded_history = np.load('history_interval.npy', allow_pickle=True) # save training data for later\n",
    "loaded_history.item(0)['loss']"
   ]
  },
  {
   "cell_type": "code",
   "execution_count": null,
   "metadata": {
    "id": "eIMee7mLBQ5z"
   },
   "outputs": [],
   "source": [
    "def predict_next_note(\n",
    "    notes: np.ndarray,\n",
    "    init_pitch: float,\n",
    "    model: tf.keras.Model,\n",
    "    temperature: float = 1.0) -> tuple[int, float, float]:\n",
    "  \"\"\"Generates a note as a tuple of (pitch, step, duration), using a trained sequence model.\"\"\"\n",
    "\n",
    "  assert temperature > 0\n",
    "\n",
    "  # Add batch dimension\n",
    "  inputs = tf.expand_dims(notes, 0)\n",
    "\n",
    "  predictions = model.predict(inputs)\n",
    "  interval_logits = predictions['interval']\n",
    "  step = predictions['step']\n",
    "  duration = predictions['duration']\n",
    "\n",
    "  interval_logits /= temperature \n",
    "  interval = tf.random.categorical(interval_logits, num_samples=1) \n",
    "  interval = tf.squeeze(interval, axis=-1) \n",
    "  duration = tf.squeeze(duration, axis=-1)\n",
    "  step = tf.squeeze(step, axis=-1)\n",
    "  interval = interval -24\n",
    "  pitch = init_pitch + interval\n",
    "\n",
    "\n",
    "  # `step` and `duration` values should be non-negative\n",
    "\n",
    "  step = tf.maximum(0, step)\n",
    "  duration = tf.maximum(0, duration)\n",
    "  \n",
    "  # pitch needs to be bound for interval model, so \n",
    "  pitch = tf.maximum(30, pitch)\n",
    "  pitch = tf.minimum(100, pitch)\n",
    "\n",
    "  return int(pitch), int(interval), float(step), float(duration), interval_logits"
   ]
  },
  {
   "cell_type": "code",
   "execution_count": 64,
   "metadata": {},
   "outputs": [],
   "source": [
    "def calc_unit_perplexity(logits, target): \n",
    "  metric=Perplexity()\n",
    "  input = torch.tensor(logits)\n",
    "  target_tens = torch.tensor([target])\n",
    "  metric.update(input, target_tens)\n",
    "  return metric.compute()\n",
    "\n",
    "\n",
    "#calc_unit_perplexity(agg_logits[0],)"
   ]
  },
  {
   "cell_type": "code",
   "execution_count": 87,
   "metadata": {},
   "outputs": [],
   "source": [
    "temperature = 1.0\n",
    "num_predictions = seq_length\n",
    "\n",
    "def note_loop(song):\n",
    "  test_notes = pitchInst[pitchInst['melid'] == song].reset_index()\n",
    "  sample_notes = np.stack([test_notes[key] for key in key_order], axis=1)\n",
    "\n",
    "  input_notes = sample_notes[:seq_length]\n",
    "\n",
    "  # These are common fields to the entire test set\n",
    "  tempo = test_notes['tempo'].iloc[seq_length]\n",
    "  inst = test_notes['instrument_num'].iloc[seq_length]\n",
    "  key = test_notes['key_num'].iloc[seq_length]\n",
    "  title = test_notes['title'].iloc[seq_length]\n",
    "  performer = test_notes['performer'].iloc[seq_length]\n",
    "  instrument_name = test_notes['instrument'].iloc[seq_length]\n",
    "  # intitial pitch from where to apply the predicted intervals\n",
    "  pitch = test_notes['pitch'].iloc[seq_length]\n",
    "\n",
    "\n",
    "  generated_notes = []\n",
    "  # this is the last start time of the prompt set\n",
    "  prev_start = test_notes['start'][seq_length]\n",
    "  agg_logits = []\n",
    "  pplex = []\n",
    "  #contour = 0  #initial contour should be last contour of input sequence\n",
    "  for i in range(num_predictions):\n",
    "    pitch, interval, step, duration, interval_logits = predict_next_note(input_notes, pitch, model, temperature)\n",
    "    start = prev_start\n",
    "    end = start + duration\n",
    "    agg_logits.append(interval_logits)\n",
    "    target_note = test_notes['interval'].iloc[seq_length + i].astype(int)\n",
    "    pplex.append(calc_unit_perplexity([interval_logits], [target_note + 24]))\n",
    "    # TODO:\n",
    "    # This line has to change when you change the inputs to the model.  The input_note\n",
    "    # that is getting appended to input notes needs to have the correct number and order of \n",
    "    # fields cause it is gonna get fed back into the model.predict function\n",
    "    # input_note = (pitch, step, duration)\n",
    "    input_note = (interval, step, duration, tempo, inst, key)\n",
    "    generated_notes.append((*input_note, pitch, start, end))\n",
    "    input_notes = np.delete(input_notes, 0, axis=0)\n",
    "    input_notes = np.append(input_notes , np.expand_dims(input_note, 0), axis=0) \n",
    "    prev_start = start + step\n",
    "    \n",
    "  generated_notes = pd.DataFrame(\n",
    "      generated_notes, columns=(*key_order, 'pitch', 'start', 'end'))\n",
    "\n",
    "  start_df = test_notes[:seq_length].drop(['interval'], axis=1)\n",
    "  \n",
    "\n",
    "  # string together the first training data and the generated notes\n",
    "  full_sequence = pd.concat([start_df, generated_notes], ignore_index=True)\n",
    "\n",
    "  example_file = f\"PureInterval-Song-{song}_seq-{seq_length}-{performer}-{title}.midi\"  # adds a prefix to the sample filename\n",
    "  my_functions.notes_to_midi(full_sequence[['pitch', 'step', 'duration', 'tempo']], out_file=example_file, instrument_name='Acoustic Grand Piano')\n",
    "\n",
    "  return test_notes[:len(full_sequence)], full_sequence, generated_notes, title, performer, agg_logits, pplex\n"
   ]
  },
  {
   "cell_type": "code",
   "execution_count": 102,
   "metadata": {},
   "outputs": [
    {
     "name": "stdout",
     "output_type": "stream",
     "text": [
      "\u001b[1m1/1\u001b[0m \u001b[32m━━━━━━━━━━━━━━━━━━━━\u001b[0m\u001b[37m\u001b[0m \u001b[1m0s\u001b[0m 11ms/step\n",
      "\u001b[1m1/1\u001b[0m \u001b[32m━━━━━━━━━━━━━━━━━━━━\u001b[0m\u001b[37m\u001b[0m \u001b[1m0s\u001b[0m 11ms/step\n",
      "\u001b[1m1/1\u001b[0m \u001b[32m━━━━━━━━━━━━━━━━━━━━\u001b[0m\u001b[37m\u001b[0m \u001b[1m0s\u001b[0m 8ms/step\n",
      "\u001b[1m1/1\u001b[0m \u001b[32m━━━━━━━━━━━━━━━━━━━━\u001b[0m\u001b[37m\u001b[0m \u001b[1m0s\u001b[0m 15ms/step\n",
      "\u001b[1m1/1\u001b[0m \u001b[32m━━━━━━━━━━━━━━━━━━━━\u001b[0m\u001b[37m\u001b[0m \u001b[1m0s\u001b[0m 9ms/step\n",
      "\u001b[1m1/1\u001b[0m \u001b[32m━━━━━━━━━━━━━━━━━━━━\u001b[0m\u001b[37m\u001b[0m \u001b[1m0s\u001b[0m 9ms/step\n",
      "\u001b[1m1/1\u001b[0m \u001b[32m━━━━━━━━━━━━━━━━━━━━\u001b[0m\u001b[37m\u001b[0m \u001b[1m0s\u001b[0m 9ms/step\n",
      "\u001b[1m1/1\u001b[0m \u001b[32m━━━━━━━━━━━━━━━━━━━━\u001b[0m\u001b[37m\u001b[0m \u001b[1m0s\u001b[0m 8ms/step\n",
      "\u001b[1m1/1\u001b[0m \u001b[32m━━━━━━━━━━━━━━━━━━━━\u001b[0m\u001b[37m\u001b[0m \u001b[1m0s\u001b[0m 9ms/step\n",
      "\u001b[1m1/1\u001b[0m \u001b[32m━━━━━━━━━━━━━━━━━━━━\u001b[0m\u001b[37m\u001b[0m \u001b[1m0s\u001b[0m 8ms/step\n",
      "\u001b[1m1/1\u001b[0m \u001b[32m━━━━━━━━━━━━━━━━━━━━\u001b[0m\u001b[37m\u001b[0m \u001b[1m0s\u001b[0m 9ms/step\n",
      "\u001b[1m1/1\u001b[0m \u001b[32m━━━━━━━━━━━━━━━━━━━━\u001b[0m\u001b[37m\u001b[0m \u001b[1m0s\u001b[0m 8ms/step\n",
      "\u001b[1m1/1\u001b[0m \u001b[32m━━━━━━━━━━━━━━━━━━━━\u001b[0m\u001b[37m\u001b[0m \u001b[1m0s\u001b[0m 8ms/step\n",
      "\u001b[1m1/1\u001b[0m \u001b[32m━━━━━━━━━━━━━━━━━━━━\u001b[0m\u001b[37m\u001b[0m \u001b[1m0s\u001b[0m 9ms/step\n",
      "\u001b[1m1/1\u001b[0m \u001b[32m━━━━━━━━━━━━━━━━━━━━\u001b[0m\u001b[37m\u001b[0m \u001b[1m0s\u001b[0m 8ms/step\n",
      "\u001b[1m1/1\u001b[0m \u001b[32m━━━━━━━━━━━━━━━━━━━━\u001b[0m\u001b[37m\u001b[0m \u001b[1m0s\u001b[0m 9ms/step\n",
      "\u001b[1m1/1\u001b[0m \u001b[32m━━━━━━━━━━━━━━━━━━━━\u001b[0m\u001b[37m\u001b[0m \u001b[1m0s\u001b[0m 8ms/step\n",
      "\u001b[1m1/1\u001b[0m \u001b[32m━━━━━━━━━━━━━━━━━━━━\u001b[0m\u001b[37m\u001b[0m \u001b[1m0s\u001b[0m 9ms/step\n",
      "\u001b[1m1/1\u001b[0m \u001b[32m━━━━━━━━━━━━━━━━━━━━\u001b[0m\u001b[37m\u001b[0m \u001b[1m0s\u001b[0m 9ms/step\n",
      "\u001b[1m1/1\u001b[0m \u001b[32m━━━━━━━━━━━━━━━━━━━━\u001b[0m\u001b[37m\u001b[0m \u001b[1m0s\u001b[0m 8ms/step\n"
     ]
    }
   ],
   "source": [
    "run_list = test_list\n",
    "song = run_list[4]\n",
    "#run_list = [41, 42, 74, 75, 89]\n",
    "targets, full_sequence, generated_notes, title, performer, agg_logits, pplex = note_loop(song)\n"
   ]
  },
  {
   "cell_type": "code",
   "execution_count": 105,
   "metadata": {},
   "outputs": [
    {
     "data": {
      "image/png": "[encoded data removed]",
      "text/plain": [
       "<Figure size 1000x600 with 1 Axes>"
      ]
     },
     "metadata": {
      "image/png": {
       "height": 546,
       "width": 850
      }
     },
     "output_type": "display_data"
    }
   ],
   "source": [
    "import matplotlib.pyplot as plt\n",
    "\n",
    "# Plot pplex as a line graph\n",
    "plt.figure(figsize=(10, 6))\n",
    "plt.plot(pplex, marker='o', linestyle='-', color='b')\n",
    "plt.title('Perplexity Over Time')\n",
    "plt.xlabel('Prediction Step')\n",
    "plt.ylabel('Perplexity')\n",
    "plt.grid(True)\n",
    "plt.show()"
   ]
  },
  {
   "cell_type": "code",
   "execution_count": 92,
   "metadata": {},
   "outputs": [],
   "source": [
    "def calc_perplexity(agg_logits, target, num_predictions):\n",
    "  x = target['interval'] + 24\n",
    "  x = x.tail(num_predictions).astype(int).to_numpy()\n",
    "  np.array_split(x, num_predictions)\n",
    "  metric=Perplexity()\n",
    "  input = torch.tensor(agg_logits)\n",
    "  target_tens = torch.tensor(np.array_split(x, num_predictions))\n",
    "  metric.update(input, target_tens)\n",
    "  return metric.compute()"
   ]
  },
  {
   "cell_type": "code",
   "execution_count": 103,
   "metadata": {},
   "outputs": [
    {
     "data": {
      "text/plain": [
       "tensor(12.5490, dtype=torch.float64)"
      ]
     },
     "execution_count": 103,
     "metadata": {},
     "output_type": "execute_result"
    }
   ],
   "source": [
    "calc_perplexity(agg_logits, targets, num_predictions) "
   ]
  },
  {
   "cell_type": "code",
   "execution_count": null,
   "metadata": {},
   "outputs": [],
   "source": [
    "my_functions.plot_notes(full_sequence, seq_length ,heading=f'Predictions: {title}-{performer}')\n",
    "my_functions.plot_notes(targets, seq_length, heading=f'Actual: {title}-{performer}')"
   ]
  },
  {
   "cell_type": "code",
   "execution_count": null,
   "metadata": {},
   "outputs": [],
   "source": [
    "my_functions.plot_distributions(generated_notes, title=\"Generated Notes Distribution\")\n",
    "my_functions.plot_distributions(targets, title=\"Target Data Notes\")"
   ]
  }
 ],
 "metadata": {
  "colab": {
   "authorship_tag": "ABX9TyMbAUZAKMT3LWx3S3x1qvHL",
   "name": "",
   "version": ""
  },
  "kernelspec": {
   "display_name": ".conda",
   "language": "python",
   "name": "python3"
  },
  "language_info": {
   "codemirror_mode": {
    "name": "ipython",
    "version": 3
   },
   "file_extension": ".py",
   "mimetype": "text/x-python",
   "name": "python",
   "nbconvert_exporter": "python",
   "pygments_lexer": "ipython3",
   "version": "3.11.10"
  }
 },
 "nbformat": 4,
 "nbformat_minor": 0
}
